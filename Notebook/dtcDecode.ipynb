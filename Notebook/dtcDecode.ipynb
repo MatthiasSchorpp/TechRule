{
 "cells": [
  {
   "cell_type": "code",
   "execution_count": null,
   "id": "2cccfcad",
   "metadata": {},
   "outputs": [],
   "source": [
    "import pandas as pd\n",
    "\n",
    "# Pfad zur Excel-Datei angeben\n",
    "excel_file = 'DTCTranslate.xlsx'\n",
    "\n",
    "# Excel-Datei mit Pandas einlesen und erste Spalte als Index verwenden\n",
    "df_dtc = pd.read_excel(excel_file, sheet_name='DTC', index_col=0)\n",
    "df_ftb = pd.read_excel(excel_file, sheet_name='FTB', index_col=0)\n",
    "\n",
    "\n",
    "# Das Ergebnis anzeigen\n",
    "value = \"P2C8800\"\n",
    "dtc = value[0:5]\n",
    "ftb = value[5:7]\n",
    "\n",
    "print(value,\" \",df_dtc.loc[dtc,'Text'], \"-\", df_ftb.loc[ftb,'Desc'])\n",
    "\n"
   ]
  },
  {
   "cell_type": "code",
   "execution_count": null,
   "id": "36b5cab0",
   "metadata": {},
   "outputs": [],
   "source": [
    "import pandas\n",
    "\n",
    "data = pandas.read_excel('fzg.xlsx', sheet_name='fzg')\n",
    "data.insert( 2, \"DTCList\", '-')\n",
    "\n",
    "for i in range(len(data['col0'])):\n",
    "    print(data.loc[i].iat[1])\n",
    "    \n"
   ]
  }
 ],
 "metadata": {
  "kernelspec": {
   "display_name": "Python 3 (ipykernel)",
   "language": "python",
   "name": "python3"
  },
  "language_info": {
   "codemirror_mode": {
    "name": "ipython",
    "version": 3
   },
   "file_extension": ".py",
   "mimetype": "text/x-python",
   "name": "python",
   "nbconvert_exporter": "python",
   "pygments_lexer": "ipython3",
   "version": "3.10.9"
  }
 },
 "nbformat": 4,
 "nbformat_minor": 5
}
